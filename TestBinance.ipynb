{
 "cells": [
  {
   "cell_type": "code",
   "execution_count": null,
   "metadata": {
    "dotnet_interactive": {
     "language": "csharp"
    },
    "vscode": {
     "languageId": "dotnet-interactive.csharp"
    }
   },
   "outputs": [],
   "source": [
    "using System.Net;\n",
    "using System.Net.Http;\n",
    "using System.Net.NetworkInformation;"
   ]
  },
  {
   "cell_type": "code",
   "execution_count": null,
   "metadata": {
    "dotnet_interactive": {
     "language": "csharp"
    },
    "vscode": {
     "languageId": "dotnet-interactive.csharp"
    }
   },
   "outputs": [
    {
     "ename": "Error",
     "evalue": "(105,20): error CS0103: The name 'result' does not exist in the current context",
     "output_type": "error",
     "traceback": [
      "(105,20): error CS0103: The name 'result' does not exist in the current context"
     ]
    }
   ],
   "source": [
    "public class BinanceApp\n",
    "{\n",
    "    private const string BASE_URL = \"https://api.binance.com\";\n",
    "\n",
    "    private bool isRunning = true;\n",
    "\n",
    "    private HttpClient httpClient = new HttpClient();\n",
    "\n",
    "    // public BinanceApp()\n",
    "    // {\n",
    "    //     this.httpClient = new HttpClient();\n",
    "    // }\n",
    "\n",
    "    public void StartApp()\n",
    "    {\n",
    "        if (!this.TryPingBaseUrl() || !this.TryApiPingRequest()) {\n",
    "            Console.WriteLine(\"Failed to ping app.\");\n",
    "            return;\n",
    "        }\n",
    "\n",
    "        Console.WriteLine(\"Ping app successfully\");\n",
    "\n",
    "        this.isRunning = true;\n",
    "    }\n",
    "\n",
    "    public void UpdateApp()\n",
    "    {\n",
    "\n",
    "    }\n",
    "\n",
    "    /// Ping ap ping path to check if the app is running.\n",
    "    private bool TryApiPingRequest()\n",
    "    {\n",
    "        BinancePingService client = new BinancePingService(this.httpClient, BASE_URL, \"/api/v3/ping\");\n",
    "\n",
    "        Console.WriteLine($\"Preparing to update client.\");\n",
    "\n",
    "        Task<bool> updateTask = Task.Run<bool>(async () => await client.TryApiPingRequest());\n",
    "\n",
    "        Console.WriteLine($\"Updated client {updateTask.Result.ToString()}.\");\n",
    "\n",
    "        return updateTask.Result;\n",
    "    }\n",
    "\n",
    "    /// Ping the base url to check if the app is running.\n",
    "    private bool TryPingBaseUrl()\n",
    "    {\n",
    "        BinancePingService client = new BinancePingService(this.httpClient, BASE_URL, \"/api/v3/ping\");\n",
    "\n",
    "        Console.WriteLine($\"Preparing to update client.\");\n",
    "\n",
    "        Task<bool> updateTask = Task.Run<bool>(async () => await client.TryPingBaseUrl());\n",
    "\n",
    "        Console.WriteLine($\"Updated client {updateTask.Result.ToString()}.\");\n",
    "\n",
    "        return updateTask.Result;\n",
    "    }\n",
    "}\n",
    "\n",
    "public class BinancePingService\n",
    "{\n",
    "    private const string API_PING_METHOD = \"GET\";\n",
    "\n",
    "    private string apiBaseUrl = string.Empty;\n",
    "    private string apiPingPath = string.Empty;\n",
    "\n",
    "    private HttpClient httpClient = null;\n",
    "\n",
    "    public BinancePingService(HttpClient httpClient, string apiBaseUrl, string apiPingPath)\n",
    "    {\n",
    "        this.apiBaseUrl = apiBaseUrl;\n",
    "        this.apiPingPath = apiPingPath;\n",
    "    }\n",
    "\n",
    "    public async Task<bool> TryApiPingRequest()\n",
    "    {\n",
    "        try {\n",
    "            string endPoint = $\"{this.apiBaseUrl}{this.apiPingPath}\";\n",
    "\n",
    "            HttpResponseMessage apiPingresult = await this.httpClient.GetAsync(endPoint);\n",
    "\n",
    "            return apiPingresult.StatusCode == HttpStatusCode.OK;\n",
    "        }\n",
    "        catch (Exception e) {\n",
    "            ExceptionHandler.LogException(e);\n",
    "        }\n",
    "\n",
    "        return false;\n",
    "    }\n",
    "\n",
    "    public async Task<bool> TryPingBaseUrl()\n",
    "    {\n",
    "        try {\n",
    "            Ping ping = new Ping();\n",
    "\n",
    "            Console.WriteLine($\"Preparing to send ping.\");\n",
    "\n",
    "            // Ping url must not contain {https://}.\n",
    "            PingReply pingResult = await ping.SendPingAsync(this.apiBaseUrl.Replace(\"https://\", \"\"));\n",
    "\n",
    "            Console.WriteLine($\"Ping sent.\");\n",
    "\n",
    "            PingReplyHandler.LogReply(pingResult);\n",
    "\n",
    "            return result.Status == IPStatus.Success;\n",
    "        } catch (Exception e) {\n",
    "            ExceptionHandler.LogException(e);\n",
    "        }\n",
    "\n",
    "        return false;\n",
    "    }\n",
    "}\n",
    "\n",
    "public static class ExceptionHandler\n",
    "{\n",
    "    private static StringBuilder messageBuilder = new StringBuilder();\n",
    "\n",
    "    public static void LogException(Exception e)\n",
    "    {\n",
    "        messageBuilder.AppendLine(\"Failed to update app.\");\n",
    "        messageBuilder.AppendLine($\"___MESSAGE:{e.Message}.\");\n",
    "        messageBuilder.AppendLine($\"___STACKTRACE:{e.StackTrace}.\");\n",
    "        \n",
    "        Console.WriteLine(messageBuilder.ToString());\n",
    "    }\n",
    "}\n",
    "\n",
    "public static class PingReplyHandler\n",
    "{\n",
    "    public static void LogReply(PingReply reply)\n",
    "    {\n",
    "        Console.WriteLine($\"Address: {reply.Address}\");\n",
    "        Console.WriteLine($\"RoundTrip time: {reply.RoundtripTime}\");\n",
    "        Console.WriteLine($\"Buffer: {reply.Buffer.Length}\");\n",
    "        Console.WriteLine($\"Status: {reply.Status}\");\n",
    "    }\n",
    "}"
   ]
  },
  {
   "cell_type": "code",
   "execution_count": null,
   "metadata": {
    "dotnet_interactive": {
     "language": "csharp"
    },
    "vscode": {
     "languageId": "dotnet-interactive.csharp"
    }
   },
   "outputs": [
    {
     "ename": "Error",
     "evalue": "(1,1): error CS0246: The type or namespace name 'BinanceApp' could not be found (are you missing a using directive or an assembly reference?)\r\n(1,22): error CS0246: The type or namespace name 'BinanceApp' could not be found (are you missing a using directive or an assembly reference?)",
     "output_type": "error",
     "traceback": [
      "(1,1): error CS0246: The type or namespace name 'BinanceApp' could not be found (are you missing a using directive or an assembly reference?)\r\n",
      "(1,22): error CS0246: The type or namespace name 'BinanceApp' could not be found (are you missing a using directive or an assembly reference?)"
     ]
    }
   ],
   "source": [
    "BinanceApp app = new BinanceApp();\n",
    "app.StartApp();"
   ]
  }
 ],
 "metadata": {
  "kernelspec": {
   "display_name": ".NET (C#)",
   "language": "C#",
   "name": ".net-csharp"
  },
  "language_info": {
   "name": "C#"
  }
 },
 "nbformat": 4,
 "nbformat_minor": 2
}
