{
 "cells": [
  {
   "cell_type": "code",
   "execution_count": null,
   "metadata": {
    "dotnet_interactive": {
     "language": "csharp"
    },
    "vscode": {
     "languageId": "dotnet-interactive.csharp"
    }
   },
   "outputs": [],
   "source": [
    "using System.Net.Http;\n",
    "using System.Net.NetworkInformation;"
   ]
  },
  {
   "cell_type": "code",
   "execution_count": null,
   "metadata": {
    "dotnet_interactive": {
     "language": "csharp"
    },
    "vscode": {
     "languageId": "dotnet-interactive.csharp"
    }
   },
   "outputs": [],
   "source": [
    "public class BinanceApp\n",
    "{\n",
    "    private bool isRunning = true;\n",
    "\n",
    "    private Task<bool> updateTask = null;\n",
    "\n",
    "    public void StartApp()\n",
    "    {\n",
    "        this.isRunning = true;\n",
    "\n",
    "        try {\n",
    "            if (!this.UpdateApp()) {\n",
    "                Console.WriteLine(\"Failed to update app.\");\n",
    "            }\n",
    "            else {\n",
    "                Console.WriteLine(\"App updated successfully\");\n",
    "            }\n",
    "        } catch (Exception e) {\n",
    "            StringBuilder messageBuilder = new StringBuilder();\n",
    "\n",
    "            messageBuilder.AppendLine(\"Failed to update app.\");\n",
    "            messageBuilder.AppendLine($\"___MESSAGE:{e.Message}.\");\n",
    "            messageBuilder.AppendLine($\"___STACKTRACE:{e.StackTrace}.\");\n",
    "            \n",
    "            Console.WriteLine(messageBuilder.ToString());\n",
    "        }\n",
    "\n",
    "    }\n",
    "\n",
    "    private bool UpdateApp()\n",
    "    {\n",
    "        BinanceService client = new BinanceService();\n",
    "\n",
    "        Console.WriteLine($\"Preparing to update client.\");\n",
    "\n",
    "        this.updateTask = Task.Run<bool>(async () => await client.SendPingAsync());\n",
    "\n",
    "        Console.WriteLine($\"Updated client {this.updateTask.Result.ToString()}.\");\n",
    "\n",
    "        return this.updateTask.Result;\n",
    "    }\n",
    "}\n",
    "\n",
    "public class BinanceService\n",
    "{\n",
    "    private const string BASE_URL = \"https://api.binance.com\";\n",
    "\n",
    "    public async Task<bool> SendPingAsync()\n",
    "    {\n",
    "        Ping ping = new Ping();\n",
    "\n",
    "        Console.WriteLine($\"Preparing to send ping.\");\n",
    "\n",
    "        // Ping url must not contain {https://}.\n",
    "        PingReply result = await ping.SendPingAsync(BASE_URL.Replace(\"https://\", \"\"));\n",
    "\n",
    "        Console.WriteLine($\"Ping sent.\");\n",
    "\n",
    "        PingReplyHandler replayHandler = new PingReplyHandler(result);\n",
    "        replayHandler.LogReply();\n",
    "\n",
    "        return result.Status == IPStatus.Success;\n",
    "    }\n",
    "}\n",
    "\n",
    "public class PingReplyHandler\n",
    "{\n",
    "    public readonly PingReply Reply;\n",
    "\n",
    "    public PingReplyHandler(PingReply reply)\n",
    "    {\n",
    "        this.Reply = reply;\n",
    "    }\n",
    "\n",
    "    public void LogReply()\n",
    "    {\n",
    "        Console.WriteLine($\"Address: {this.Reply.Address}\");\n",
    "        Console.WriteLine($\"RoundTrip time: {this.Reply.RoundtripTime}\");\n",
    "        Console.WriteLine($\"Buffer: {this.Reply.Buffer.Length}\");\n",
    "        Console.WriteLine($\"Status: {this.Reply.Status}\");\n",
    "    }\n",
    "}"
   ]
  },
  {
   "cell_type": "code",
   "execution_count": null,
   "metadata": {
    "dotnet_interactive": {
     "language": "csharp"
    },
    "vscode": {
     "languageId": "dotnet-interactive.csharp"
    }
   },
   "outputs": [
    {
     "name": "stdout",
     "output_type": "stream",
     "text": [
      "Preparing to update client.\r\n",
      "Preparing to send ping.\r\n",
      "Ping sent.\r\n",
      "Address: 13.227.6.143\r\n",
      "RoundTrip time: 20\r\n",
      "Buffer: 32\r\n",
      "Status: Success\r\n",
      "Updated client True.\r\n",
      "App updated successfully\r\n"
     ]
    }
   ],
   "source": [
    "BinanceApp app = new BinanceApp();\n",
    "app.StartApp();"
   ]
  }
 ],
 "metadata": {
  "kernelspec": {
   "display_name": ".NET (C#)",
   "language": "C#",
   "name": ".net-csharp"
  },
  "language_info": {
   "name": "C#"
  }
 },
 "nbformat": 4,
 "nbformat_minor": 2
}
